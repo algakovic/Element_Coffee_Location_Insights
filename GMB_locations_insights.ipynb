{
 "cells": [
  {
   "cell_type": "markdown",
   "metadata": {},
   "source": [
    "# Google My Business Locations Insights for Element Coffee"
   ]
  },
  {
   "cell_type": "markdown",
   "metadata": {},
   "source": [
    "#### Retrieve Location Metrics in Google My Business"
   ]
  },
  {
   "cell_type": "markdown",
   "metadata": {},
   "source": [
    "## Executive Summary"
   ]
  },
  {
   "cell_type": "markdown",
   "metadata": {},
   "source": [
    "The Google My Business API provides you with several location insights and metrics.\n",
    "\n",
    "For each location, the following metrics are available for you to analyse:\n",
    "\n",
    "- The frequency that the resource was shown when the location is searched for directly.\n",
    "- The frequency that the resource was shown as a result of a categorical search, such as for a restaurant.\n",
    "- How many times that the resource was viewed on Google Search.\n",
    "- How many times that the local post was viewed on Google Search.\n",
    "- How many times that the resource was viewed on Google Maps.\n",
    "- How many times that the website was clicked.\n",
    "- How many times that the phone number was clicked.\n",
    "- How many times that the driving directions were requested.\n",
    "- How many times that the call-to-action button was clicked.\n",
    "- The amount of views of photos uploaded by the merchant.\n",
    "- The total number of photos that are currently live that were uploaded by the merchant."
   ]
  },
  {
   "cell_type": "code",
   "execution_count": null,
   "metadata": {},
   "outputs": [],
   "source": [
    "import os.path\n",
    "import requests\n",
    "import time\n",
    "import json\n",
    "\n",
    "import pandas as pd\n",
    "from pandas.io.json import json_normalize\n",
    "import numpy as np\n",
    "import matplotlib.pyplot as plt\n",
    "import seaborn as sns\n",
    "\n",
    "%matplotlib inline"
   ]
  },
  {
   "cell_type": "markdown",
   "metadata": {},
   "source": [
    "## Obtain Insights from Google 02Auth Playground"
   ]
  },
  {
   "cell_type": "code",
   "execution_count": 2,
   "metadata": {},
   "outputs": [
    {
     "ename": "SyntaxError",
     "evalue": "invalid syntax (<ipython-input-2-ecb0c41e2f26>, line 4)",
     "output_type": "error",
     "traceback": [
      "\u001b[1;36m  File \u001b[1;32m\"<ipython-input-2-ecb0c41e2f26>\"\u001b[1;36m, line \u001b[1;32m4\u001b[0m\n\u001b[1;33m    accountId =\u001b[0m\n\u001b[1;37m                ^\u001b[0m\n\u001b[1;31mSyntaxError\u001b[0m\u001b[1;31m:\u001b[0m invalid syntax\n"
     ]
    }
   ],
   "source": [
    "# Cell missing data intentionally\n",
    "headers = {'Content-Length': '390', 'Content-Type': 'application/json', 'Authorization': '',\n",
    "          }\n",
    "accountId = \n",
    "locationId = \n",
    "URI = f'https://mybusiness.googleapis.com/v4/accounts/{accountId}/locations:reportInsights'\n",
    "# body of the POST request\n",
    "data = {\n",
    "  \"locationNames\": [\n",
    "    f\"accounts/{accountId}/locations/{locationId}\"\n",
    "  ],\n",
    "  \"basicRequest\": {\n",
    "          \"metricRequests\": [\n",
    "             {\n",
    "               \"metric\": \"ALL\"\n",
    "             },\n",
    "   \n",
    "          ],\n",
    "          \"timeRange\": {\n",
    "               \"startTime\": \"2019-04-22T01:01:23.045123456Z\",\n",
    "               \"endTime\": \"2020-10-20T23:59:59.045123456Z\"\n",
    "          }\n",
    "    }\n",
    "}\n",
    "# Jsonify the data object\n",
    "data = json.dumps(data)"
   ]
  },
  {
   "cell_type": "code",
   "execution_count": null,
   "metadata": {},
   "outputs": [],
   "source": [
    "r = requests.post(URI, headers=headers, data=data)\n",
    "print(f'status code: {r.status_code}')\n",
    "result = r.json()\n",
    "result"
   ]
  },
  {
   "cell_type": "markdown",
   "metadata": {},
   "source": [
    "### Save data to JSON file"
   ]
  },
  {
   "cell_type": "code",
   "execution_count": 57,
   "metadata": {},
   "outputs": [],
   "source": [
    "with open('C:/Users/kamik/code/projects/element_coffee/review_analysis/insights_data.json', 'w') as outfile:\n",
    "    json.dump(result, outfile)"
   ]
  },
  {
   "cell_type": "markdown",
   "metadata": {},
   "source": [
    "## Load data into DataFrame from JSON file"
   ]
  },
  {
   "cell_type": "code",
   "execution_count": 2,
   "metadata": {},
   "outputs": [],
   "source": [
    "with open('insights_data.json') as json_file:\n",
    "    data = json.load(json_file)"
   ]
  },
  {
   "cell_type": "code",
   "execution_count": 3,
   "metadata": {},
   "outputs": [],
   "source": [
    "# data"
   ]
  },
  {
   "cell_type": "code",
   "execution_count": 4,
   "metadata": {},
   "outputs": [],
   "source": [
    "df = pd.DataFrame.from_dict(json_normalize(data['locationMetrics'][0]['metricValues']), orient='columns')"
   ]
  },
  {
   "cell_type": "code",
   "execution_count": 7,
   "metadata": {},
   "outputs": [],
   "source": [
    "df['metric'][13] = 'LOCAL_POST_ACTIONS_CALL_TO_ACTION'"
   ]
  },
  {
   "cell_type": "code",
   "execution_count": 8,
   "metadata": {},
   "outputs": [
    {
     "data": {
      "text/html": [
       "<div>\n",
       "<style scoped>\n",
       "    .dataframe tbody tr th:only-of-type {\n",
       "        vertical-align: middle;\n",
       "    }\n",
       "\n",
       "    .dataframe tbody tr th {\n",
       "        vertical-align: top;\n",
       "    }\n",
       "\n",
       "    .dataframe thead th {\n",
       "        text-align: right;\n",
       "    }\n",
       "</style>\n",
       "<table border=\"1\" class=\"dataframe\">\n",
       "  <thead>\n",
       "    <tr style=\"text-align: right;\">\n",
       "      <th></th>\n",
       "      <th>metric</th>\n",
       "      <th>totalValue.metricOption</th>\n",
       "      <th>totalValue.timeDimension.timeRange.startTime</th>\n",
       "      <th>totalValue.timeDimension.timeRange.endTime</th>\n",
       "      <th>totalValue.value</th>\n",
       "    </tr>\n",
       "  </thead>\n",
       "  <tbody>\n",
       "    <tr>\n",
       "      <td>0</td>\n",
       "      <td>QUERIES_DIRECT</td>\n",
       "      <td>AGGREGATED_TOTAL</td>\n",
       "      <td>2019-04-22T01:01:23.045123456Z</td>\n",
       "      <td>2020-10-20T23:59:59.045123456Z</td>\n",
       "      <td>18853</td>\n",
       "    </tr>\n",
       "    <tr>\n",
       "      <td>1</td>\n",
       "      <td>QUERIES_INDIRECT</td>\n",
       "      <td>AGGREGATED_TOTAL</td>\n",
       "      <td>2019-04-22T01:01:23.045123456Z</td>\n",
       "      <td>2020-10-20T23:59:59.045123456Z</td>\n",
       "      <td>59843</td>\n",
       "    </tr>\n",
       "    <tr>\n",
       "      <td>2</td>\n",
       "      <td>QUERIES_CHAIN</td>\n",
       "      <td>AGGREGATED_TOTAL</td>\n",
       "      <td>2019-04-22T01:01:23.045123456Z</td>\n",
       "      <td>2020-10-20T23:59:59.045123456Z</td>\n",
       "      <td>1109</td>\n",
       "    </tr>\n",
       "    <tr>\n",
       "      <td>3</td>\n",
       "      <td>VIEWS_MAPS</td>\n",
       "      <td>AGGREGATED_TOTAL</td>\n",
       "      <td>2019-04-22T01:01:23.045123456Z</td>\n",
       "      <td>2020-10-20T23:59:59.045123456Z</td>\n",
       "      <td>103922</td>\n",
       "    </tr>\n",
       "    <tr>\n",
       "      <td>4</td>\n",
       "      <td>VIEWS_SEARCH</td>\n",
       "      <td>AGGREGATED_TOTAL</td>\n",
       "      <td>2019-04-22T01:01:23.045123456Z</td>\n",
       "      <td>2020-10-20T23:59:59.045123456Z</td>\n",
       "      <td>16680</td>\n",
       "    </tr>\n",
       "    <tr>\n",
       "      <td>5</td>\n",
       "      <td>ACTIONS_WEBSITE</td>\n",
       "      <td>AGGREGATED_TOTAL</td>\n",
       "      <td>2019-04-22T01:01:23.045123456Z</td>\n",
       "      <td>2020-10-20T23:59:59.045123456Z</td>\n",
       "      <td>1050</td>\n",
       "    </tr>\n",
       "    <tr>\n",
       "      <td>6</td>\n",
       "      <td>ACTIONS_PHONE</td>\n",
       "      <td>AGGREGATED_TOTAL</td>\n",
       "      <td>2019-04-22T01:01:23.045123456Z</td>\n",
       "      <td>2020-10-20T23:59:59.045123456Z</td>\n",
       "      <td>0</td>\n",
       "    </tr>\n",
       "    <tr>\n",
       "      <td>7</td>\n",
       "      <td>ACTIONS_DRIVING_DIRECTIONS</td>\n",
       "      <td>AGGREGATED_TOTAL</td>\n",
       "      <td>2019-04-22T01:01:23.045123456Z</td>\n",
       "      <td>2020-10-20T23:59:59.045123456Z</td>\n",
       "      <td>659</td>\n",
       "    </tr>\n",
       "    <tr>\n",
       "      <td>8</td>\n",
       "      <td>PHOTOS_VIEWS_MERCHANT</td>\n",
       "      <td>AGGREGATED_TOTAL</td>\n",
       "      <td>2019-04-22T01:01:23.045123456Z</td>\n",
       "      <td>2020-10-20T23:59:59.045123456Z</td>\n",
       "      <td>79389</td>\n",
       "    </tr>\n",
       "    <tr>\n",
       "      <td>9</td>\n",
       "      <td>PHOTOS_VIEWS_CUSTOMERS</td>\n",
       "      <td>AGGREGATED_TOTAL</td>\n",
       "      <td>2019-04-22T01:01:23.045123456Z</td>\n",
       "      <td>2020-10-20T23:59:59.045123456Z</td>\n",
       "      <td>102945</td>\n",
       "    </tr>\n",
       "    <tr>\n",
       "      <td>10</td>\n",
       "      <td>PHOTOS_COUNT_MERCHANT</td>\n",
       "      <td>AGGREGATED_TOTAL</td>\n",
       "      <td>2019-04-22T01:01:23.045123456Z</td>\n",
       "      <td>2020-10-20T23:59:59.045123456Z</td>\n",
       "      <td>3142</td>\n",
       "    </tr>\n",
       "    <tr>\n",
       "      <td>11</td>\n",
       "      <td>PHOTOS_COUNT_CUSTOMERS</td>\n",
       "      <td>AGGREGATED_TOTAL</td>\n",
       "      <td>2019-04-22T01:01:23.045123456Z</td>\n",
       "      <td>2020-10-20T23:59:59.045123456Z</td>\n",
       "      <td>18983</td>\n",
       "    </tr>\n",
       "    <tr>\n",
       "      <td>12</td>\n",
       "      <td>LOCAL_POST_VIEWS_SEARCH</td>\n",
       "      <td>AGGREGATED_TOTAL</td>\n",
       "      <td>2019-04-22T01:01:23.045123456Z</td>\n",
       "      <td>2020-10-20T23:59:59.045123456Z</td>\n",
       "      <td>76</td>\n",
       "    </tr>\n",
       "    <tr>\n",
       "      <td>13</td>\n",
       "      <td>LOCAL_POST_ACTIONS_CALL_TO_ACTION</td>\n",
       "      <td>AGGREGATED_TOTAL</td>\n",
       "      <td>2019-04-22T01:01:23.045123456Z</td>\n",
       "      <td>2020-10-20T23:59:59.045123456Z</td>\n",
       "      <td>3</td>\n",
       "    </tr>\n",
       "  </tbody>\n",
       "</table>\n",
       "</div>"
      ],
      "text/plain": [
       "                               metric totalValue.metricOption  \\\n",
       "0                      QUERIES_DIRECT        AGGREGATED_TOTAL   \n",
       "1                    QUERIES_INDIRECT        AGGREGATED_TOTAL   \n",
       "2                       QUERIES_CHAIN        AGGREGATED_TOTAL   \n",
       "3                          VIEWS_MAPS        AGGREGATED_TOTAL   \n",
       "4                        VIEWS_SEARCH        AGGREGATED_TOTAL   \n",
       "5                     ACTIONS_WEBSITE        AGGREGATED_TOTAL   \n",
       "6                       ACTIONS_PHONE        AGGREGATED_TOTAL   \n",
       "7          ACTIONS_DRIVING_DIRECTIONS        AGGREGATED_TOTAL   \n",
       "8               PHOTOS_VIEWS_MERCHANT        AGGREGATED_TOTAL   \n",
       "9              PHOTOS_VIEWS_CUSTOMERS        AGGREGATED_TOTAL   \n",
       "10              PHOTOS_COUNT_MERCHANT        AGGREGATED_TOTAL   \n",
       "11             PHOTOS_COUNT_CUSTOMERS        AGGREGATED_TOTAL   \n",
       "12            LOCAL_POST_VIEWS_SEARCH        AGGREGATED_TOTAL   \n",
       "13  LOCAL_POST_ACTIONS_CALL_TO_ACTION        AGGREGATED_TOTAL   \n",
       "\n",
       "   totalValue.timeDimension.timeRange.startTime  \\\n",
       "0                2019-04-22T01:01:23.045123456Z   \n",
       "1                2019-04-22T01:01:23.045123456Z   \n",
       "2                2019-04-22T01:01:23.045123456Z   \n",
       "3                2019-04-22T01:01:23.045123456Z   \n",
       "4                2019-04-22T01:01:23.045123456Z   \n",
       "5                2019-04-22T01:01:23.045123456Z   \n",
       "6                2019-04-22T01:01:23.045123456Z   \n",
       "7                2019-04-22T01:01:23.045123456Z   \n",
       "8                2019-04-22T01:01:23.045123456Z   \n",
       "9                2019-04-22T01:01:23.045123456Z   \n",
       "10               2019-04-22T01:01:23.045123456Z   \n",
       "11               2019-04-22T01:01:23.045123456Z   \n",
       "12               2019-04-22T01:01:23.045123456Z   \n",
       "13               2019-04-22T01:01:23.045123456Z   \n",
       "\n",
       "   totalValue.timeDimension.timeRange.endTime totalValue.value  \n",
       "0              2020-10-20T23:59:59.045123456Z            18853  \n",
       "1              2020-10-20T23:59:59.045123456Z            59843  \n",
       "2              2020-10-20T23:59:59.045123456Z             1109  \n",
       "3              2020-10-20T23:59:59.045123456Z           103922  \n",
       "4              2020-10-20T23:59:59.045123456Z            16680  \n",
       "5              2020-10-20T23:59:59.045123456Z             1050  \n",
       "6              2020-10-20T23:59:59.045123456Z                0  \n",
       "7              2020-10-20T23:59:59.045123456Z              659  \n",
       "8              2020-10-20T23:59:59.045123456Z            79389  \n",
       "9              2020-10-20T23:59:59.045123456Z           102945  \n",
       "10             2020-10-20T23:59:59.045123456Z             3142  \n",
       "11             2020-10-20T23:59:59.045123456Z            18983  \n",
       "12             2020-10-20T23:59:59.045123456Z               76  \n",
       "13             2020-10-20T23:59:59.045123456Z                3  "
      ]
     },
     "execution_count": 8,
     "metadata": {},
     "output_type": "execute_result"
    }
   ],
   "source": [
    "df"
   ]
  },
  {
   "cell_type": "code",
   "execution_count": 9,
   "metadata": {},
   "outputs": [
    {
     "data": {
      "text/plain": [
       "(14, 5)"
      ]
     },
     "execution_count": 9,
     "metadata": {},
     "output_type": "execute_result"
    }
   ],
   "source": [
    "df.shape"
   ]
  },
  {
   "cell_type": "code",
   "execution_count": 10,
   "metadata": {},
   "outputs": [
    {
     "name": "stdout",
     "output_type": "stream",
     "text": [
      "<class 'pandas.core.frame.DataFrame'>\n",
      "RangeIndex: 14 entries, 0 to 13\n",
      "Data columns (total 5 columns):\n",
      "metric                                          14 non-null object\n",
      "totalValue.metricOption                         14 non-null object\n",
      "totalValue.timeDimension.timeRange.startTime    14 non-null object\n",
      "totalValue.timeDimension.timeRange.endTime      14 non-null object\n",
      "totalValue.value                                14 non-null object\n",
      "dtypes: object(5)\n",
      "memory usage: 688.0+ bytes\n"
     ]
    }
   ],
   "source": [
    "df.info()"
   ]
  },
  {
   "cell_type": "markdown",
   "metadata": {},
   "source": [
    "## Legend for Metric Type:\n",
    "- QUERIES_DIRECT:\tThe number of times the resource was shown when searching for the location directly.\n",
    "- QUERIES_INDIRECT:\tThe number of times the resource was shown as a result of a categorical search (for example, restaurant).\n",
    "- QUERIES_CHAIN:\tThe number of times a resource was shown as a result of a search for the chain it belongs to, or a brand it sells. For example, Starbucks, Adidas. This is a subset of QUERIES_INDIRECT.\n",
    "- VIEWS_MAPS:\tThe number of times the resource was viewed on Google Maps.\n",
    "- VIEWS_SEARCH:\tThe number of times the resource was viewed on Google Search.\n",
    "- ACTIONS_WEBSITE:\tThe number of times the website was clicked.\n",
    "- ACTIONS_PHONE:\tThe number of times the phone number was clicked.\n",
    "- ACTIONS_DRIVING_DIRECTIONS:\tThe number of times driving directions were requested.\n",
    "- PHOTOS_VIEWS_MERCHANT:\tThe number of views on media items uploaded by the merchant.\n",
    "- PHOTOS_VIEWS_CUSTOMERS:\tThe number of views on media items uploaded by customers.\n",
    "- PHOTOS_COUNT_MERCHANT:\tThe total number of media items that are currently live that have been uploaded by the merchant.\n",
    "- PHOTOS_COUNT_CUSTOMERS:\tThe total number of media items that are currently live that have been uploaded by customers.\n",
    "- LOCAL_POST_VIEWS_SEARCH:\tThe number of times the local post was viewed on Google Search.\n",
    "- LOCAL_POST_ACTIONS_CALL_TO_ACTION:\tThe number of times the call to action button was clicked on Google."
   ]
  },
  {
   "cell_type": "markdown",
   "metadata": {},
   "source": [
    "## Data Cleansing"
   ]
  },
  {
   "cell_type": "code",
   "execution_count": 11,
   "metadata": {},
   "outputs": [],
   "source": [
    "df.rename(columns={'totalValue.value':'Aggregated_Totals'}, inplace=True)"
   ]
  },
  {
   "cell_type": "code",
   "execution_count": 12,
   "metadata": {},
   "outputs": [],
   "source": [
    "# Change Aggregated_Totals values from objects to Integers\n",
    "df['Aggregated_Totals'] = df['Aggregated_Totals'].apply(lambda x: int(x))"
   ]
  },
  {
   "cell_type": "code",
   "execution_count": 13,
   "metadata": {},
   "outputs": [],
   "source": [
    "# df.metric[13] = 'LOCAL_POST_ACTIONS_CALL_TO_ACTION'\t\n",
    "df.drop(columns=['totalValue.metricOption', 'totalValue.timeDimension.timeRange.startTime', 'totalValue.timeDimension.timeRange.endTime'], inplace=True)"
   ]
  },
  {
   "cell_type": "code",
   "execution_count": 14,
   "metadata": {},
   "outputs": [],
   "source": [
    "# df.plot(kind='bar')"
   ]
  },
  {
   "cell_type": "code",
   "execution_count": 15,
   "metadata": {},
   "outputs": [],
   "source": [
    "df = df.T.squeeze()"
   ]
  },
  {
   "cell_type": "code",
   "execution_count": 16,
   "metadata": {},
   "outputs": [],
   "source": [
    "df.columns = df.loc['metric'].values"
   ]
  },
  {
   "cell_type": "code",
   "execution_count": 17,
   "metadata": {},
   "outputs": [],
   "source": [
    "df.drop(['metric'], inplace=True)"
   ]
  },
  {
   "cell_type": "code",
   "execution_count": 20,
   "metadata": {},
   "outputs": [],
   "source": [
    "df = df.T"
   ]
  },
  {
   "cell_type": "code",
   "execution_count": 21,
   "metadata": {},
   "outputs": [
    {
     "data": {
      "text/html": [
       "<div>\n",
       "<style scoped>\n",
       "    .dataframe tbody tr th:only-of-type {\n",
       "        vertical-align: middle;\n",
       "    }\n",
       "\n",
       "    .dataframe tbody tr th {\n",
       "        vertical-align: top;\n",
       "    }\n",
       "\n",
       "    .dataframe thead th {\n",
       "        text-align: right;\n",
       "    }\n",
       "</style>\n",
       "<table border=\"1\" class=\"dataframe\">\n",
       "  <thead>\n",
       "    <tr style=\"text-align: right;\">\n",
       "      <th></th>\n",
       "      <th>Aggregated_Totals</th>\n",
       "    </tr>\n",
       "  </thead>\n",
       "  <tbody>\n",
       "    <tr>\n",
       "      <td>QUERIES_DIRECT</td>\n",
       "      <td>18853</td>\n",
       "    </tr>\n",
       "    <tr>\n",
       "      <td>QUERIES_INDIRECT</td>\n",
       "      <td>59843</td>\n",
       "    </tr>\n",
       "    <tr>\n",
       "      <td>QUERIES_CHAIN</td>\n",
       "      <td>1109</td>\n",
       "    </tr>\n",
       "    <tr>\n",
       "      <td>VIEWS_MAPS</td>\n",
       "      <td>103922</td>\n",
       "    </tr>\n",
       "    <tr>\n",
       "      <td>VIEWS_SEARCH</td>\n",
       "      <td>16680</td>\n",
       "    </tr>\n",
       "    <tr>\n",
       "      <td>ACTIONS_WEBSITE</td>\n",
       "      <td>1050</td>\n",
       "    </tr>\n",
       "    <tr>\n",
       "      <td>ACTIONS_PHONE</td>\n",
       "      <td>0</td>\n",
       "    </tr>\n",
       "    <tr>\n",
       "      <td>ACTIONS_DRIVING_DIRECTIONS</td>\n",
       "      <td>659</td>\n",
       "    </tr>\n",
       "    <tr>\n",
       "      <td>PHOTOS_VIEWS_MERCHANT</td>\n",
       "      <td>79389</td>\n",
       "    </tr>\n",
       "    <tr>\n",
       "      <td>PHOTOS_VIEWS_CUSTOMERS</td>\n",
       "      <td>102945</td>\n",
       "    </tr>\n",
       "    <tr>\n",
       "      <td>PHOTOS_COUNT_MERCHANT</td>\n",
       "      <td>3142</td>\n",
       "    </tr>\n",
       "    <tr>\n",
       "      <td>PHOTOS_COUNT_CUSTOMERS</td>\n",
       "      <td>18983</td>\n",
       "    </tr>\n",
       "    <tr>\n",
       "      <td>LOCAL_POST_VIEWS_SEARCH</td>\n",
       "      <td>76</td>\n",
       "    </tr>\n",
       "    <tr>\n",
       "      <td>LOCAL_POST_ACTIONS_CALL_TO_ACTION</td>\n",
       "      <td>3</td>\n",
       "    </tr>\n",
       "  </tbody>\n",
       "</table>\n",
       "</div>"
      ],
      "text/plain": [
       "                                  Aggregated_Totals\n",
       "QUERIES_DIRECT                                18853\n",
       "QUERIES_INDIRECT                              59843\n",
       "QUERIES_CHAIN                                  1109\n",
       "VIEWS_MAPS                                   103922\n",
       "VIEWS_SEARCH                                  16680\n",
       "ACTIONS_WEBSITE                                1050\n",
       "ACTIONS_PHONE                                     0\n",
       "ACTIONS_DRIVING_DIRECTIONS                      659\n",
       "PHOTOS_VIEWS_MERCHANT                         79389\n",
       "PHOTOS_VIEWS_CUSTOMERS                       102945\n",
       "PHOTOS_COUNT_MERCHANT                          3142\n",
       "PHOTOS_COUNT_CUSTOMERS                        18983\n",
       "LOCAL_POST_VIEWS_SEARCH                          76\n",
       "LOCAL_POST_ACTIONS_CALL_TO_ACTION                 3"
      ]
     },
     "execution_count": 21,
     "metadata": {},
     "output_type": "execute_result"
    }
   ],
   "source": [
    "df"
   ]
  },
  {
   "cell_type": "markdown",
   "metadata": {},
   "source": [
    "## Exploratory Data Analysis"
   ]
  },
  {
   "cell_type": "code",
   "execution_count": 23,
   "metadata": {},
   "outputs": [
    {
     "data": {
      "text/plain": [
       "<matplotlib.axes._subplots.AxesSubplot at 0x242ee1b5278>"
      ]
     },
     "execution_count": 23,
     "metadata": {},
     "output_type": "execute_result"
    },
    {
     "data": {
      "image/png": "[encoded data removed]",
      "text/plain": [
       "<Figure size 1440x1440 with 1 Axes>"
      ]
     },
     "metadata": {
      "needs_background": "light"
     },
     "output_type": "display_data"
    }
   ],
   "source": [
    "# All insights plot\n",
    "df.plot(kind='bar', figsize=(20,20))"
   ]
  },
  {
   "cell_type": "code",
   "execution_count": 33,
   "metadata": {},
   "outputs": [
    {
     "data": {
      "text/plain": [
       "<matplotlib.axes._subplots.AxesSubplot at 0x242f011f8d0>"
      ]
     },
     "execution_count": 33,
     "metadata": {},
     "output_type": "execute_result"
    },
    {
     "data": {
      "image/png": "[encoded data removed]",
      "text/plain": [
       "<Figure size 432x288 with 1 Axes>"
      ]
     },
     "metadata": {
      "needs_background": "light"
     },
     "output_type": "display_data"
    }
   ],
   "source": [
    "# Queries Direct Vs Indirect:\n",
    "df.plot(kind='bar')"
   ]
  },
  {
   "cell_type": "markdown",
   "metadata": {},
   "source": [
    "## Recommendation \n",
    "\n",
    "Obtain results for each month for a time series analysis "
   ]
  },
  {
   "cell_type": "code",
   "execution_count": null,
   "metadata": {},
   "outputs": [],
   "source": []
  }
 ],
 "metadata": {
  "kernelspec": {
   "display_name": "learn-env",
   "language": "python",
   "name": "learn-env"
  },
  "language_info": {
   "codemirror_mode": {
    "name": "ipython",
    "version": 3
   },
   "file_extension": ".py",
   "mimetype": "text/x-python",
   "name": "python",
   "nbconvert_exporter": "python",
   "pygments_lexer": "ipython3",
   "version": "3.6.9"
  }
 },
 "nbformat": 4,
 "nbformat_minor": 4
}
